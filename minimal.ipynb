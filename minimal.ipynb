{
 "cells": [
  {
   "cell_type": "code",
   "execution_count": 15,
   "id": "3551d1c9-214b-411f-a4af-8b8de0f0cbd1",
   "metadata": {},
   "outputs": [],
   "source": [
    "import os\n",
    "import json\n",
    "import importlib\n",
    "import torch\n",
    "\n",
    "import peripheral_model\n",
    "import perceptual_model\n"
   ]
  },
  {
   "cell_type": "code",
   "execution_count": 19,
   "id": "66461dff-c3a3-4ed4-875c-c8f24212bd65",
   "metadata": {},
   "outputs": [
    {
     "name": "stdout",
     "output_type": "stream",
     "text": [
      "label_loc_int torch.Size([2, 504]) torch.float32\n"
     ]
    }
   ],
   "source": [
    "importlib.reload(peripheral_model)\n",
    "importlib.reload(perceptual_model)\n",
    "\n",
    "\n",
    "class Model(torch.nn.Module):\n",
    "    def __init__(\n",
    "        self,\n",
    "        config_model={},\n",
    "        architecture=[],\n",
    "        input_shape=[2, 65000, 2],\n",
    "        config_random_slice={\"size\": [50, 10000], \"buffer\": [0, 1000]},\n",
    "        device=None,\n",
    "    ):\n",
    "        \"\"\" \"\"\"\n",
    "        super().__init__()\n",
    "        self.input_shape = input_shape\n",
    "        kwargs_peripheral_model = {\n",
    "            \"sr_input\": config_model[\"kwargs_cochlea\"].get(\"sr_input\", None),\n",
    "            \"sr_output\": config_model[\"kwargs_cochlea\"].get(\"sr_output\", None),\n",
    "            \"config_cochlear_filterbank\": config_model[\"kwargs_cochlea\"].get(\n",
    "                \"config_filterbank\", {}\n",
    "            ),\n",
    "            \"config_ihc_transduction\": config_model[\"kwargs_cochlea\"].get(\n",
    "                \"config_subband_processing\", {}\n",
    "            ),\n",
    "            \"config_ihc_lowpass_filter\": config_model[\"kwargs_cochlea\"].get(\n",
    "                \"kwargs_fir_lowpass_filter_output\", {}\n",
    "            ),\n",
    "            \"config_anf_rate_level\": config_model[\"kwargs_cochlea\"].get(\n",
    "                \"kwargs_sigmoid_rate_level_function\", {}\n",
    "            ),\n",
    "            \"config_anf_spike_generator\": config_model[\"kwargs_cochlea\"].get(\n",
    "                \"kwargs_spike_generator_binomial\", {}\n",
    "            ),\n",
    "            \"config_random_slice\": config_random_slice,\n",
    "        }\n",
    "        assert kwargs_peripheral_model[\"config_ihc_lowpass_filter\"].pop(\n",
    "            \"ihc_filter\", True\n",
    "        )\n",
    "        # print(self.input_shape, json.dumps(kwargs_peripheral_model, indent=4))\n",
    "        self.peripheral_model = peripheral_model.PeripheralModel(\n",
    "            **kwargs_peripheral_model,\n",
    "        )\n",
    "        self.perceptual_model = perceptual_model.PerceptualModel(\n",
    "            architecture=architecture,\n",
    "            input_shape=self.peripheral_model(torch.zeros(self.input_shape)).shape,\n",
    "            heads=config_model[\"n_classes_dict\"],\n",
    "            device=device,\n",
    "        )\n",
    "\n",
    "    def forward(self, x):\n",
    "        \"\"\" \"\"\"\n",
    "        return self.perceptual_model(self.peripheral_model(x))\n",
    "\n",
    "\n",
    "dir_model = \"../phaselocknet/models/sound_localization/simplified_IHC3000_delayed_integration/arch01\"\n",
    "input_shape = [2, 65000, 2]\n",
    "config_random_slice = {\"size\": [50, 10000], \"buffer\": [0, 1000]}\n",
    "\n",
    "dir_model = \"../phaselocknet/models/spkr_word_recognition/simplified_IHC3000/arch0_0000\"\n",
    "input_shape = [2, 40000]\n",
    "config_random_slice = {\"size\": [50, 20000], \"buffer\": [0, 0]}\n",
    "\n",
    "dir_model = \"../phaselocknet/models/spkr_word_recognition/IHC3000/arch0_0000\"\n",
    "input_shape = [2, 3, 50, 20000]\n",
    "config_random_slice = {}\n",
    "\n",
    "dir_model = \"../phaselocknet/models/sound_localization/IHC3000_delayed_integration/arch01\"\n",
    "input_shape = [2, 3, 50, 13000, 2]\n",
    "config_random_slice = {\"size\": [50, 10000], \"buffer\": [0, 1000]}\n",
    "\n",
    "with open(os.path.join(dir_model, \"config.json\")) as f:\n",
    "    config_model = json.load(f)\n",
    "with open(os.path.join(dir_model, \"arch.json\")) as f:\n",
    "    architecture = json.load(f)\n",
    "\n",
    "model = Model(\n",
    "    config_model=config_model,\n",
    "    architecture=architecture,\n",
    "    input_shape=input_shape,\n",
    "    config_random_slice=config_random_slice,\n",
    ")\n",
    "\n",
    "for k, v in model(torch.zeros(model.input_shape)).items():\n",
    "    print(k, v.shape, v.dtype)\n"
   ]
  },
  {
   "cell_type": "code",
   "execution_count": null,
   "id": "66f5fac4-019c-4e59-98e3-1158f57f4fa0",
   "metadata": {},
   "outputs": [],
   "source": []
  },
  {
   "cell_type": "code",
   "execution_count": null,
   "id": "7aa61325-b2ae-445f-a017-fa6cee520445",
   "metadata": {},
   "outputs": [],
   "source": []
  }
 ],
 "metadata": {
  "kernelspec": {
   "display_name": "Python 3 (ipykernel)",
   "language": "python",
   "name": "python3"
  },
  "language_info": {
   "codemirror_mode": {
    "name": "ipython",
    "version": 3
   },
   "file_extension": ".py",
   "mimetype": "text/x-python",
   "name": "python",
   "nbconvert_exporter": "python",
   "pygments_lexer": "ipython3",
   "version": "3.11.7"
  }
 },
 "nbformat": 4,
 "nbformat_minor": 5
}
