{
 "cells": [
  {
   "cell_type": "code",
   "execution_count": 1,
   "id": "3551d1c9-214b-411f-a4af-8b8de0f0cbd1",
   "metadata": {},
   "outputs": [
    {
     "data": {
      "text/plain": [
       "device(type='cuda', index=0)"
      ]
     },
     "execution_count": 1,
     "metadata": {},
     "output_type": "execute_result"
    }
   ],
   "source": [
    "import os\n",
    "import json\n",
    "import importlib\n",
    "import numpy as np\n",
    "import torch\n",
    "import tqdm\n",
    "\n",
    "import phaselocknet_model\n",
    "import util\n",
    "\n",
    "device = torch.device(\"cuda:0\" if torch.cuda.is_available() else \"cpu\")\n",
    "device\n"
   ]
  },
  {
   "cell_type": "code",
   "execution_count": 32,
   "id": "66461dff-c3a3-4ed4-875c-c8f24212bd65",
   "metadata": {},
   "outputs": [
    {
     "name": "stdout",
     "output_type": "stream",
     "text": [
      "label_loc_int torch.Size([2, 504]) torch.float32\n"
     ]
    }
   ],
   "source": [
    "importlib.reload(phaselocknet_model)\n",
    "importlib.reload(util)\n",
    "\n",
    "dir_model = \"../phaselocknet/models/sound_localization/simplified_IHC3000_delayed_integration/arch01\"\n",
    "input_shape = [2, 60000, 2]\n",
    "config_random_slice = {\"size\": [50, 10000], \"buffer\": [0, 500]}\n",
    "\n",
    "dir_model = \"../phaselocknet/models/sound_localization/IHC3000_delayed_integration/arch01\"\n",
    "input_shape = [2, 3, 50, 12000, 2]\n",
    "config_random_slice = {\"size\": [50, 10000], \"buffer\": [0, 500]}\n",
    "\n",
    "# dir_model = \"../phaselocknet/models/spkr_word_recognition/simplified_IHC3000/arch0_0000\"\n",
    "# input_shape = [2, 40000]\n",
    "# config_random_slice = {\"size\": [50, 20000], \"buffer\": [0, 0]}\n",
    "\n",
    "# dir_model = \"../phaselocknet/models/spkr_word_recognition/IHC3000/arch0_0000\"\n",
    "# input_shape = [2, 3, 50, 20000]\n",
    "# config_random_slice = {}\n",
    "\n",
    "\n",
    "with open(os.path.join(dir_model, \"config.json\")) as f:\n",
    "    config_model = json.load(f)\n",
    "with open(os.path.join(dir_model, \"arch.json\")) as f:\n",
    "    architecture = json.load(f)\n",
    "\n",
    "model = phaselocknet_model.Model(\n",
    "    config_model=config_model,\n",
    "    architecture=architecture,\n",
    "    input_shape=input_shape,\n",
    "    config_random_slice=config_random_slice,\n",
    ").to(device)\n",
    "\n",
    "for k, v in model(torch.zeros(model.input_shape, device=device)).items():\n",
    "    print(k, v.shape, v.dtype)\n"
   ]
  },
  {
   "cell_type": "code",
   "execution_count": 33,
   "id": "9ca28ad3-93a5-4985-8865-fcb8e8ac3d52",
   "metadata": {},
   "outputs": [
    {
     "name": "stderr",
     "output_type": "stream",
     "text": [
      "100%|██████████████████████████████████████████████████████████████████████████████████████████████████████████████| 200/200 [00:02<00:00, 85.26it/s]\n"
     ]
    }
   ],
   "source": [
    "for _ in tqdm.tqdm(range(200)):\n",
    "    x = torch.randn(model.input_shape, device=device)\n",
    "    model(x)\n"
   ]
  },
  {
   "cell_type": "code",
   "execution_count": 35,
   "id": "66f5fac4-019c-4e59-98e3-1158f57f4fa0",
   "metadata": {},
   "outputs": [
    {
     "name": "stdout",
     "output_type": "stream",
     "text": [
      "[load_tf_model_checkpoint] ../phaselocknet/models/sound_localization/IHC3000_delayed_integration/arch01/ckpt_BEST\n"
     ]
    },
    {
     "data": {
      "text/plain": [
       "'../phaselocknet/models/sound_localization/IHC3000_delayed_integration/arch01/ckpt_BEST'"
      ]
     },
     "execution_count": 35,
     "metadata": {},
     "output_type": "execute_result"
    }
   ],
   "source": [
    "importlib.reload(util)\n",
    "\n",
    "util.load_tf_model_checkpoint(\n",
    "    model=model.perceptual_model,\n",
    "    filename=os.path.join(dir_model, \"ckpt_BEST\"),\n",
    ")\n"
   ]
  },
  {
   "cell_type": "code",
   "execution_count": 36,
   "id": "c20b27ef-a6b1-4839-9eb5-94d100e1733f",
   "metadata": {},
   "outputs": [
    {
     "name": "stdout",
     "output_type": "stream",
     "text": [
      "body.conv_0.weight torch.Size([32, 3, 1, 8])\n",
      "body.conv_0.bias torch.Size([32])\n",
      "body.batch_norm_0.weight torch.Size([32])\n",
      "body.batch_norm_0.bias torch.Size([32])\n",
      "body.batch_norm_0.running_mean torch.Size([32])\n",
      "body.batch_norm_0.running_var torch.Size([32])\n",
      "body.batch_norm_0.num_batches_tracked torch.Size([])\n",
      "body.conv_1.weight torch.Size([32, 16, 1, 64])\n",
      "body.conv_1.bias torch.Size([32])\n",
      "body.batch_norm_1.weight torch.Size([32])\n",
      "body.batch_norm_1.bias torch.Size([32])\n",
      "body.batch_norm_1.running_mean torch.Size([32])\n",
      "body.batch_norm_1.running_var torch.Size([32])\n",
      "body.batch_norm_1.num_batches_tracked torch.Size([])\n",
      "body.conv_2.weight torch.Size([32, 16, 1, 64])\n",
      "body.conv_2.bias torch.Size([32])\n",
      "body.batch_norm_2.weight torch.Size([32])\n",
      "body.batch_norm_2.bias torch.Size([32])\n",
      "body.batch_norm_2.running_mean torch.Size([32])\n",
      "body.batch_norm_2.running_var torch.Size([32])\n",
      "body.batch_norm_2.num_batches_tracked torch.Size([])\n",
      "body.conv_3.weight torch.Size([64, 32, 2, 4])\n",
      "body.conv_3.bias torch.Size([64])\n",
      "body.batch_norm_3.weight torch.Size([64])\n",
      "body.batch_norm_3.bias torch.Size([64])\n",
      "body.batch_norm_3.running_mean torch.Size([64])\n",
      "body.batch_norm_3.running_var torch.Size([64])\n",
      "body.batch_norm_3.num_batches_tracked torch.Size([])\n",
      "body.conv_4.weight torch.Size([128, 64, 3, 8])\n",
      "body.conv_4.bias torch.Size([128])\n",
      "body.batch_norm_4.weight torch.Size([128])\n",
      "body.batch_norm_4.bias torch.Size([128])\n",
      "body.batch_norm_4.running_mean torch.Size([128])\n",
      "body.batch_norm_4.running_var torch.Size([128])\n",
      "body.batch_norm_4.num_batches_tracked torch.Size([])\n",
      "body.conv_5.weight torch.Size([128, 128, 3, 32])\n",
      "body.conv_5.bias torch.Size([128])\n",
      "body.batch_norm_5.weight torch.Size([128])\n",
      "body.batch_norm_5.bias torch.Size([128])\n",
      "body.batch_norm_5.running_mean torch.Size([128])\n",
      "body.batch_norm_5.running_var torch.Size([128])\n",
      "body.batch_norm_5.num_batches_tracked torch.Size([])\n",
      "body.conv_6.weight torch.Size([256, 128, 3, 4])\n",
      "body.conv_6.bias torch.Size([256])\n",
      "body.batch_norm_6.weight torch.Size([256])\n",
      "body.batch_norm_6.bias torch.Size([256])\n",
      "body.batch_norm_6.running_mean torch.Size([256])\n",
      "body.batch_norm_6.running_var torch.Size([256])\n",
      "body.batch_norm_6.num_batches_tracked torch.Size([])\n",
      "body.conv_7.weight torch.Size([256, 256, 3, 8])\n",
      "body.conv_7.bias torch.Size([256])\n",
      "body.batch_norm_7.weight torch.Size([256])\n",
      "body.batch_norm_7.bias torch.Size([256])\n",
      "body.batch_norm_7.running_mean torch.Size([256])\n",
      "body.batch_norm_7.running_var torch.Size([256])\n",
      "body.batch_norm_7.num_batches_tracked torch.Size([])\n",
      "body.fc_intermediate.weight torch.Size([512, 179200])\n",
      "body.fc_intermediate.bias torch.Size([512])\n",
      "body.batch_norm_fc_intermediate.weight torch.Size([512])\n",
      "body.batch_norm_fc_intermediate.bias torch.Size([512])\n",
      "body.batch_norm_fc_intermediate.running_mean torch.Size([512])\n",
      "body.batch_norm_fc_intermediate.running_var torch.Size([512])\n",
      "body.batch_norm_fc_intermediate.num_batches_tracked torch.Size([])\n",
      "head.label_loc_int.fc_output.weight torch.Size([504, 512])\n",
      "head.label_loc_int.fc_output.bias torch.Size([504])\n"
     ]
    }
   ],
   "source": [
    "for k, v in model.perceptual_model.state_dict().items():\n",
    "    print(k, v.shape)\n",
    "# len(model.perceptual_model.state_dict())\n"
   ]
  },
  {
   "cell_type": "code",
   "execution_count": null,
   "id": "681638ac-7c39-4bd6-ba79-590412447be6",
   "metadata": {},
   "outputs": [],
   "source": []
  },
  {
   "cell_type": "code",
   "execution_count": null,
   "id": "3918d24d-7958-47d8-9ee2-fda31525ed0d",
   "metadata": {},
   "outputs": [],
   "source": []
  }
 ],
 "metadata": {
  "kernelspec": {
   "display_name": "Python 3 (ipykernel)",
   "language": "python",
   "name": "python3"
  },
  "language_info": {
   "codemirror_mode": {
    "name": "ipython",
    "version": 3
   },
   "file_extension": ".py",
   "mimetype": "text/x-python",
   "name": "python",
   "nbconvert_exporter": "python",
   "pygments_lexer": "ipython3",
   "version": "3.11.7"
  }
 },
 "nbformat": 4,
 "nbformat_minor": 5
}
